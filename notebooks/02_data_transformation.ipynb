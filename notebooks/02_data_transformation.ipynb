{
 "cells": [
  {
   "cell_type": "markdown",
   "metadata": {},
   "source": [
    "# Football Data Transformation\n"
   ]
  },
  {
   "cell_type": "code",
   "execution_count": 1,
   "metadata": {},
   "outputs": [],
   "source": [
    "%reload_ext autoreload\n",
    "%autoreload 2\n",
    "\n",
    "import sys\n",
    "\n",
    "sys.path.append(\"src\")"
   ]
  },
  {
   "cell_type": "code",
   "execution_count": null,
   "metadata": {},
   "outputs": [],
   "source": [
    "from spark_session import create_spark_session\n",
    "\n",
    "spark = create_spark_session()"
   ]
  },
  {
   "cell_type": "code",
   "execution_count": 3,
   "metadata": {},
   "outputs": [
    {
     "name": "stderr",
     "output_type": "stream",
     "text": [
      "                                                                                \r"
     ]
    }
   ],
   "source": [
    "from data_loader import load_data\n",
    "\n",
    "(matches_df, elo_df), load_time = load_data(spark)"
   ]
  },
  {
   "cell_type": "markdown",
   "metadata": {},
   "source": [
    "We would first like to define the country in `matches_df` by joining Club in `elo_df` with HomeTeam _or_ AwayTeam in `matches_df`, but also based on the first letter in the League.\n",
    "\n",
    "We also need to remember that clubs can be part of different leagues at different times.\n",
    "\n",
    "As for betting odds, we will include 1) OddHome, OddDraw, and OddAway to establish baseline probabilities for match outcomes from a major bookmaker, 2) MaxHome, MaxDraw, and MaxAway to identify market inefficiencies and potential value bets across bookmakers, 3) Over25 and Under25 to understand expected match dynamics and goal scoring patterns, and 4) HandiSize, HandiHome, and HandiAway to capture team strength disparities in uneven matchups. These will provide Spark MLlib with diverse probability signals from betting markets, enabling the model to detect patterns between odds movements and match outcomes while potentially identifying profitable betting opportunities. So we'll drop just MaxOver25 and MaxUnder25.\n"
   ]
  },
  {
   "cell_type": "code",
   "execution_count": 4,
   "metadata": {},
   "outputs": [
    {
     "name": "stderr",
     "output_type": "stream",
     "text": [
      "                                                                                \r"
     ]
    },
    {
     "name": "stdout",
     "output_type": "stream",
     "text": [
      "Number of rows in matches_transformed_df: 135836\n",
      "Sample rows in matches_transformed_df:\n"
     ]
    },
    {
     "name": "stderr",
     "output_type": "stream",
     "text": [
      "                                                                                \r"
     ]
    },
    {
     "name": "stdout",
     "output_type": "stream",
     "text": [
      "+-------+------+----------+---------+----------+-------+--------+------+------+--------------------+-------+-------+---------+---------+---------+---------+----------+----------+-------+-------+-------+-------+-------+-------+------+-------+---------+---------+---------+\n",
      "|Country|League|      Date| HomeTeam|  AwayTeam|EloDiff|FTResult|FTHome|FTAway|                  ID|HomeElo|AwayElo|Form3Home|Form5Home|Form3Away|Form5Away|HomeTarget|AwayTarget|OddHome|OddDraw|OddAway|MaxHome|MaxDraw|MaxAway|Over25|Under25|HandiSize|HandiHome|HandiAway|\n",
      "+-------+------+----------+---------+----------+-------+--------+------+------+--------------------+-------+-------+---------+---------+---------+---------+----------+----------+-------+-------+-------+-------+-------+-------+------+-------+---------+---------+---------+\n",
      "|    FRA|    F1|2000-07-28|Marseille|    Troyes|  99.77|       H|   3.0|   1.0|2000-07-28_Marsei...|1686.34|1586.57|      0.0|      0.0|      0.0|      0.0|      NULL|      NULL|   1.65|    3.3|    4.3|   NULL|   NULL|   NULL|  NULL|   NULL|     NULL|     NULL|     NULL|\n",
      "|    FRA|    F1|2000-07-28| Paris SG|Strasbourg|  72.38|       H|   3.0|   1.0|2000-07-28_Paris ...|1714.89|1642.51|      0.0|      0.0|      0.0|      0.0|      NULL|      NULL|    1.6|    3.4|    4.6|   NULL|   NULL|   NULL|  NULL|   NULL|     NULL|     NULL|     NULL|\n",
      "+-------+------+----------+---------+----------+-------+--------+------+------+--------------------+-------+-------+---------+---------+---------+---------+----------+----------+-------+-------+-------+-------+-------+-------+------+-------+---------+---------+---------+\n",
      "only showing top 2 rows\n",
      "\n",
      "\n",
      "Missing values in matches_transformed_df:\n"
     ]
    },
    {
     "name": "stderr",
     "output_type": "stream",
     "text": [
      "[Stage 39:=======================================>                 (7 + 3) / 10]\r"
     ]
    },
    {
     "name": "stdout",
     "output_type": "stream",
     "text": [
      "+-------+------+----+--------+--------+-------+--------+------+------+---+-------+-------+---------+---------+---------+---------+----------+----------+-------+-------+-------+-------+-------+-------+------+-------+---------+---------+---------+\n",
      "|Country|League|Date|HomeTeam|AwayTeam|EloDiff|FTResult|FTHome|FTAway| ID|HomeElo|AwayElo|Form3Home|Form5Home|Form3Away|Form5Away|HomeTarget|AwayTarget|OddHome|OddDraw|OddAway|MaxHome|MaxDraw|MaxAway|Over25|Under25|HandiSize|HandiHome|HandiAway|\n",
      "+-------+------+----+--------+--------+-------+--------+------+------+---+-------+-------+---------+---------+---------+---------+----------+----------+-------+-------+-------+-------+-------+-------+------+-------+---------+---------+---------+\n",
      "|      0|     0|   0|       0|       0|      0|       0|     0|     0|  0|      0|      0|        0|        0|        0|        0|     54609|     54609|   2356|   2356|   2356|  21162|  21162|  21162| 27407|  27408|    20709|    20856|    20880|\n",
      "+-------+------+----+--------+--------+-------+--------+------+------+---+-------+-------+---------+---------+---------+---------+----------+----------+-------+-------+-------+-------+-------+-------+------+-------+---------+---------+---------+\n",
      "\n"
     ]
    },
    {
     "name": "stderr",
     "output_type": "stream",
     "text": [
      "                                                                                \r"
     ]
    }
   ],
   "source": [
    "from data_transformer import transform_matches_df\n",
    "from utils import count_nulls\n",
    "\n",
    "\n",
    "matches_transformed_df, transforming_time = transform_matches_df(matches_df, elo_df)\n",
    "\n",
    "print(f\"Number of rows in matches_transformed_df: {matches_transformed_df.count()}\")\n",
    "print(\"Sample rows in matches_transformed_df:\")\n",
    "matches_transformed_df.show(2)\n",
    "\n",
    "\n",
    "print(\"\\nMissing values in matches_transformed_df:\")\n",
    "count_nulls(matches_transformed_df).show()"
   ]
  },
  {
   "cell_type": "markdown",
   "metadata": {},
   "source": [
    "Let's partition the matches by country and league and save the partitioned in Parquet format.\n"
   ]
  },
  {
   "cell_type": "code",
   "execution_count": 5,
   "metadata": {},
   "outputs": [
    {
     "name": "stderr",
     "output_type": "stream",
     "text": [
      "                                                                                \r"
     ]
    }
   ],
   "source": [
    "from data_loader import write_parquet_data\n",
    "\n",
    "_, write_time = write_parquet_data(matches_transformed_df)"
   ]
  },
  {
   "cell_type": "code",
   "execution_count": 6,
   "metadata": {},
   "outputs": [],
   "source": [
    "from data_loader import load_parquet_data\n",
    "\n",
    "matches_parquet_df, parquet_read_time = load_parquet_data(spark)"
   ]
  },
  {
   "cell_type": "code",
   "execution_count": 7,
   "metadata": {},
   "outputs": [
    {
     "name": "stdout",
     "output_type": "stream",
     "text": [
      "CSV load time: 4.28 seconds\n",
      "Transforming time: 0.50 seconds\n",
      "Write time: 8.93 seconds\n",
      "Parquet read time: 0.15 seconds\n",
      "Speedup: 91.16x\n"
     ]
    }
   ],
   "source": [
    "# Compare reading times\n",
    "print(f\"CSV load time: {load_time:.2f} seconds\")\n",
    "print(f\"Transforming time: {transforming_time:.2f} seconds\")\n",
    "print(f\"Write time: {write_time:.2f} seconds\")\n",
    "print(f\"Parquet read time: {parquet_read_time:.2f} seconds\")\n",
    "print(f\"Speedup: {(load_time + write_time + transforming_time) / parquet_read_time:.2f}x\")"
   ]
  },
  {
   "cell_type": "code",
   "execution_count": 8,
   "metadata": {},
   "outputs": [
    {
     "name": "stdout",
     "output_type": "stream",
     "text": [
      "Actual CSV size: 37M\n",
      "Actual Parquet size: 11M\n",
      "Compression ratio: ~70% (including transformation)\n"
     ]
    }
   ],
   "source": [
    "import subprocess\n",
    "\n",
    "from config import MATCHES_OUTPUT_DIR, MATCHES_PATH\n",
    "from data_loader import get_data_path\n",
    "\n",
    "\n",
    "def get_file_or_dir_size(path: str) -> str:\n",
    "    try:\n",
    "        result = subprocess.run([\"du\", \"-sh\", path], capture_output=True, text=True, check=True)\n",
    "        return result.stdout.split()[0]\n",
    "    except subprocess.SubprocessError:\n",
    "        return \"0M\"\n",
    "\n",
    "\n",
    "csv_size = get_file_or_dir_size(get_data_path(MATCHES_PATH))\n",
    "parquet_size = get_file_or_dir_size(get_data_path(MATCHES_OUTPUT_DIR))\n",
    "\n",
    "print(f\"Actual CSV size: {csv_size}\")\n",
    "print(f\"Actual Parquet size: {parquet_size}\")\n",
    "print(\n",
    "    f\"Compression ratio: ~{round(100 - (int(parquet_size.rstrip('M')) / int(csv_size.rstrip('M')) * 100))}% (including transformation)\"\n",
    ")"
   ]
  },
  {
   "cell_type": "code",
   "execution_count": 11,
   "metadata": {},
   "outputs": [
    {
     "name": "stdout",
     "output_type": "stream",
     "text": [
      "Country partitions found: 19\n",
      "\n",
      "Example partition structure:\n",
      "Country=TUR: ['League=T1']\n",
      "Country=SCO: ['League=SC2', 'League=SC1', 'League=SC0']\n",
      "Country=GRE: ['League=G1']\n",
      "Country=ITA: ['League=I2', 'League=I1']\n",
      "Country=SWE: ['League=SWE']\n",
      "\n",
      "Total country partitions: 19\n",
      "Total league partitions: 29\n"
     ]
    }
   ],
   "source": [
    "import os\n",
    "\n",
    "matches_output_dir = get_data_path(MATCHES_OUTPUT_DIR)\n",
    "\n",
    "if os.path.exists(matches_output_dir):\n",
    "    country_partitions = [\n",
    "        f for f in os.listdir(matches_output_dir) if os.path.isdir(os.path.join(matches_output_dir, f))\n",
    "    ]\n",
    "    print(f\"Country partitions found: {len(country_partitions)}\")\n",
    "\n",
    "    # Look at leagues within each country partition\n",
    "    league_partitions = {}\n",
    "    for country_part in country_partitions:\n",
    "        country_dir = os.path.join(matches_output_dir, country_part)\n",
    "        leagues = [f for f in os.listdir(country_dir) if os.path.isdir(os.path.join(country_dir, f))]\n",
    "        league_partitions[country_part] = leagues\n",
    "\n",
    "    # Show some example partitions\n",
    "    print(\"\\nExample partition structure:\")\n",
    "    for country, leagues in list(league_partitions.items())[:5]:\n",
    "        print(f\"{country}: {leagues[:5]}{'...' if len(leagues) > 5 else ''}\")\n",
    "\n",
    "    # Count total league partitions\n",
    "    total_leagues = sum(len(leagues) for leagues in league_partitions.values())\n",
    "    print(f\"\\nTotal country partitions: {len(country_partitions)}\")\n",
    "    print(f\"Total league partitions: {total_leagues}\")\n",
    "else:\n",
    "    print(f\"Path {matches_output_dir} does not exist\")"
   ]
  },
  {
   "cell_type": "code",
   "execution_count": 10,
   "metadata": {},
   "outputs": [],
   "source": [
    "spark.stop()"
   ]
  }
 ],
 "metadata": {
  "kernelspec": {
   "display_name": "Python 3",
   "language": "python",
   "name": "python3"
  },
  "language_info": {
   "codemirror_mode": {
    "name": "ipython",
    "version": 3
   },
   "file_extension": ".py",
   "mimetype": "text/x-python",
   "name": "python",
   "nbconvert_exporter": "python",
   "pygments_lexer": "ipython3",
   "version": "3.10.16"
  }
 },
 "nbformat": 4,
 "nbformat_minor": 4
}
