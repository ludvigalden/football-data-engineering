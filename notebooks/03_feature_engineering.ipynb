{
  "cells": [
    {
      "cell_type": "markdown",
      "metadata": {},
      "source": [
        "# Feature Engineering for Football Match Prediction\n",
        "\n",
        "Useful outputs for deciding on features.\n"
      ]
    },
    {
      "cell_type": "code",
      "execution_count": 2,
      "metadata": {},
      "outputs": [],
      "source": [
        "%reload_ext autoreload\n",
        "%autoreload 2\n",
        "\n",
        "import sys\n",
        "\n",
        "sys.path.append(\"src\")"
      ]
    },
    {
      "cell_type": "code",
      "execution_count": 4,
      "metadata": {},
      "outputs": [],
      "source": [
        "from spark_session import create_spark_session\n",
        "\n",
        "spark = create_spark_session()"
      ]
    },
    {
      "cell_type": "code",
      "execution_count": 3,
      "metadata": {},
      "outputs": [
        {
          "name": "stdout",
          "output_type": "stream",
          "text": [
            "Execution time for load_parquet_data: 1.18 seconds\n"
          ]
        }
      ],
      "source": [
        "from pyspark.sql import SparkSession\n",
        "from config import MATCHES_OUTPUT_DIR\n",
        "from data_loader import get_data_path\n",
        "from utils import time_execution\n",
        "\n",
        "\n",
        "@time_execution\n",
        "def load_parquet_data(spark: SparkSession):\n",
        "    return spark.read.parquet(get_data_path(MATCHES_OUTPUT_DIR))\n",
        "\n",
        "\n",
        "matches_transformed_df, load_time = load_parquet_data(spark)"
      ]
    },
    {
      "cell_type": "code",
      "execution_count": 4,
      "metadata": {},
      "outputs": [
        {
          "name": "stdout",
          "output_type": "stream",
          "text": [
            "\n",
            "Matches Sample:\n",
            "+----------+----------------+----------+-------+--------+------+------+--------------------+-------+-------+---------+---------+---------+---------+----------+----------+-------+-------+-------+-------+-------+-------+------+-------+---------+---------+---------+-------+------+\n",
            "|      Date|        HomeTeam|  AwayTeam|EloDiff|FTResult|FTHome|FTAway|                  ID|HomeElo|AwayElo|Form3Home|Form5Home|Form3Away|Form5Away|HomeTarget|AwayTarget|OddHome|OddDraw|OddAway|MaxHome|MaxDraw|MaxAway|Over25|Under25|HandiSize|HandiHome|HandiAway|Country|League|\n",
            "+----------+----------------+----------+-------+--------+------+------+--------------------+-------+-------+---------+---------+---------+---------+----------+----------+-------+-------+-------+-------+-------+-------+------+-------+---------+---------+---------+-------+------+\n",
            "|2023-01-21|        Coventry|   Norwich| -43.37|       A|   2.0|   4.0|2023-01-21_Covent...|1514.06|1557.43|      2.0|      5.0|      4.0|      4.0|       4.0|       7.0|   2.74|   3.44|   2.49|   2.85|   3.72|   2.57|  1.89|   1.91|      0.0|     2.03|     1.87|    ENG|    E1|\n",
            "|2023-02-04|         Norwich|   Burnley|-149.77|       A|   0.0|   3.0|2023-02-04_Norwic...|1568.72|1718.49|      6.0|      7.0|      9.0|     15.0|       1.0|       6.0|   2.53|   3.35|   2.76|    2.6|   3.45|   2.86|  1.98|   1.83|      0.0|     1.84|     2.06|    ENG|    E1|\n",
            "|2023-02-11|         Burnley|   Preston| 215.45|       H|   3.0|   0.0|2023-02-11_Burnle...|1718.49|1503.04|      9.0|     15.0|      3.0|      6.0|       6.0|       2.0|   1.53|   4.02|   6.55|   1.56|   4.35|    7.2|  2.08|   1.74|     -1.0|     1.98|     1.92|    ENG|    E1|\n",
            "|2023-02-21|         Norwich|Birmingham| 109.66|       H|   3.0|   1.0|2023-02-21_Norwic...|1556.65|1446.99|      4.0|      7.0|      3.0|      6.0|       7.0|       2.0|   1.67|   3.79|   5.21|   1.71|    4.0|   5.52|  1.95|   1.85|     -0.8|     1.87|     2.03|    ENG|    E1|\n",
            "|2023-03-11|Sheffield United|     Luton|  63.92|       A|   0.0|   1.0|2023-03-11_Sheffi...| 1624.2|1560.28|      6.0|      6.0|      7.0|      8.0|       5.0|       1.0|   1.97|   3.38|   3.97|    2.0|    3.5|   4.33|  2.15|   1.69|     -0.5|     1.96|     1.94|    ENG|    E1|\n",
            "+----------+----------------+----------+-------+--------+------+------+--------------------+-------+-------+---------+---------+---------+---------+----------+----------+-------+-------+-------+-------+-------+-------+------+-------+---------+---------+---------+-------+------+\n",
            "only showing top 5 rows\n",
            "\n"
          ]
        }
      ],
      "source": [
        "# Display data samples\n",
        "print(\"\\nMatches Sample:\")\n",
        "matches_transformed_df.show(5)"
      ]
    },
    {
      "cell_type": "code",
      "execution_count": 5,
      "metadata": {},
      "outputs": [
        {
          "name": "stdout",
          "output_type": "stream",
          "text": [
            "+----------+-------------+----------+-------------+----------+-------------+------------+---------------+------------+------------+\n",
            "|AvgHomeElo|StdDevHomeElo|AvgAwayElo|StdDevAwayElo|AvgEloDiff|StdDevEloDiff|AvgForm3Home|StdDevForm3Home|AvgForm3Away|StdForm3Away|\n",
            "+----------+-------------+----------+-------------+----------+-------------+------------+---------------+------------+------------+\n",
            "|   1539.08|       150.83|   1539.09|       150.85|     -0.02|       134.12|        3.96|           2.38|        4.24|         2.4|\n",
            "+----------+-------------+----------+-------------+----------+-------------+------------+---------------+------------+------------+\n",
            "\n"
          ]
        }
      ],
      "source": [
        "import pyspark.sql.functions as F\n",
        "\n",
        "feature_stats = matches_transformed_df.select(\n",
        "    F.round(F.mean(\"HomeElo\"), 2).alias(\"AvgHomeElo\"),\n",
        "    F.round(F.stddev(\"HomeElo\"), 2).alias(\"StdDevHomeElo\"),\n",
        "    F.round(F.mean(\"AwayElo\"), 2).alias(\"AvgAwayElo\"),\n",
        "    F.round(F.stddev(\"AwayElo\"), 2).alias(\"StdDevAwayElo\"),\n",
        "    F.round(F.mean(\"EloDiff\"), 2).alias(\"AvgEloDiff\"),\n",
        "    F.round(F.stddev(\"EloDiff\"), 2).alias(\"StdDevEloDiff\"),\n",
        "    F.round(F.mean(\"Form3Home\"), 2).alias(\"AvgForm3Home\"),\n",
        "    F.round(F.stddev(\"Form3Home\"), 2).alias(\"StdDevForm3Home\"),\n",
        "    F.round(F.mean(\"Form3Away\"), 2).alias(\"AvgForm3Away\"),\n",
        "    F.round(F.stddev(\"Form3Away\"), 2).alias(\"StdForm3Away\"),\n",
        ")\n",
        "\n",
        "feature_stats.show()"
      ]
    },
    {
      "cell_type": "code",
      "execution_count": 6,
      "metadata": {},
      "outputs": [
        {
          "name": "stdout",
          "output_type": "stream",
          "text": [
            "+--------+-----+\n",
            "|FTResult|count|\n",
            "+--------+-----+\n",
            "|       D|36377|\n",
            "|       A|38194|\n",
            "|       H|61265|\n",
            "+--------+-----+\n",
            "\n"
          ]
        }
      ],
      "source": [
        "outcome_counts = matches_transformed_df.groupBy(\"FTResult\").count()\n",
        "outcome_counts.show()"
      ]
    },
    {
      "cell_type": "code",
      "execution_count": 7,
      "metadata": {},
      "outputs": [],
      "source": [
        "spark.stop()"
      ]
    }
  ],
  "metadata": {
    "kernelspec": {
      "display_name": "Python 3",
      "language": "python",
      "name": "python3"
    },
    "language_info": {
      "codemirror_mode": {
        "name": "ipython",
        "version": 3
      },
      "file_extension": ".py",
      "mimetype": "text/x-python",
      "name": "python",
      "nbconvert_exporter": "python",
      "pygments_lexer": "ipython3",
      "version": "3.10.16"
    }
  },
  "nbformat": 4,
  "nbformat_minor": 4
}
