{
 "cells": [
  {
   "cell_type": "markdown",
   "metadata": {},
   "source": [
    "# Football Data Exploration\n",
    "\n",
    "This notebook explores the football match dataset to understand its structure and characteristics.\n"
   ]
  },
  {
   "cell_type": "code",
   "execution_count": 1,
   "metadata": {},
   "outputs": [],
   "source": [
    "%reload_ext autoreload\n",
    "%autoreload 2\n",
    "\n",
    "import sys\n",
    "\n",
    "sys.path.append(\"src\")"
   ]
  },
  {
   "cell_type": "code",
   "execution_count": null,
   "metadata": {},
   "outputs": [],
   "source": [
    "from spark_session import create_spark_session\n",
    "\n",
    "spark = create_spark_session()"
   ]
  },
  {
   "cell_type": "code",
   "execution_count": 3,
   "metadata": {},
   "outputs": [
    {
     "name": "stderr",
     "output_type": "stream",
     "text": [
      "                                                                                \r"
     ]
    }
   ],
   "source": [
    "from data_loader import load_data\n",
    "\n",
    "# Load data (using local path for development)\n",
    "(matches_df, elo_df), _ = load_data(spark, local_path=True)"
   ]
  },
  {
   "cell_type": "code",
   "execution_count": 4,
   "metadata": {},
   "outputs": [
    {
     "name": "stdout",
     "output_type": "stream",
     "text": [
      "Number of countries: 19\n",
      "Number of Elo ratings: 242591\n",
      "Number of clubs with recorded Elo ratings: 895\n",
      "\n",
      "Number of league keys: 38\n",
      "Number of matches: 228377\n",
      "Number of teams with recorded matches: 1217\n",
      "\n",
      "+----------+--------+-------+-------+\n",
      "|      Date|    Club|Country|    Elo|\n",
      "+----------+--------+-------+-------+\n",
      "|2000-07-01|  Aachen|    GER| 1453.6|\n",
      "|2000-07-01| Aalborg|    DEN|1482.61|\n",
      "|2000-07-01|   Aalst|    BEL|1337.53|\n",
      "|2000-07-01|  Aarhus|    DEN|1381.46|\n",
      "|2000-07-01|Aberdeen|    SCO|1360.43|\n",
      "+----------+--------+-------+-------+\n",
      "only showing top 5 rows\n",
      "\n",
      "+------+----------+---------+---------+----------+-------+-------+---------+---------+---------+---------+------+------+--------+------+------+--------+---------+---------+----------+----------+---------+---------+-----------+-----------+----------+----------+-------+-------+-------+-------+-------+-------+-------+-------+------+-------+---------+----------+---------+---------+---------+\n",
      "|League|      Date|MatchTime| HomeTeam|  AwayTeam|HomeElo|AwayElo|Form3Home|Form5Home|Form3Away|Form5Away|FTHome|FTAway|FTResult|HTHome|HTAway|HTResult|HomeShots|AwayShots|HomeTarget|AwayTarget|HomeFouls|AwayFouls|HomeCorners|AwayCorners|HomeYellow|AwayYellow|HomeRed|AwayRed|OddHome|OddDraw|OddAway|MaxHome|MaxDraw|MaxAway|Over25|Under25|MaxOver25|MaxUnder25|HandiSize|HandiHome|HandiAway|\n",
      "+------+----------+---------+---------+----------+-------+-------+---------+---------+---------+---------+------+------+--------+------+------+--------+---------+---------+----------+----------+---------+---------+-----------+-----------+----------+----------+-------+-------+-------+-------+-------+-------+-------+-------+------+-------+---------+----------+---------+---------+---------+\n",
      "|    F1|2000-07-28|     NULL|Marseille|    Troyes|1686.34|1586.57|      0.0|      0.0|      0.0|      0.0|   3.0|   1.0|       H|   2.0|   1.0|       H|     NULL|     NULL|      NULL|      NULL|     NULL|     NULL|       NULL|       NULL|      NULL|      NULL|   NULL|   NULL|   1.65|    3.3|    4.3|   NULL|   NULL|   NULL|  NULL|   NULL|     NULL|      NULL|     NULL|     NULL|     NULL|\n",
      "|    F1|2000-07-28|     NULL| Paris SG|Strasbourg|1714.89|1642.51|      0.0|      0.0|      0.0|      0.0|   3.0|   1.0|       H|   1.0|   1.0|       D|     NULL|     NULL|      NULL|      NULL|     NULL|     NULL|       NULL|       NULL|      NULL|      NULL|   NULL|   NULL|    1.6|    3.4|    4.6|   NULL|   NULL|   NULL|  NULL|   NULL|     NULL|      NULL|     NULL|     NULL|     NULL|\n",
      "+------+----------+---------+---------+----------+-------+-------+---------+---------+---------+---------+------+------+--------+------+------+--------+---------+---------+----------+----------+---------+---------+-----------+-----------+----------+----------+-------+-------+-------+-------+-------+-------+-------+-------+------+-------+---------+----------+---------+---------+---------+\n",
      "only showing top 2 rows\n",
      "\n"
     ]
    }
   ],
   "source": [
    "# Basic statistics\n",
    "print(f\"Number of countries: {elo_df.select('Country').distinct().count()}\")\n",
    "print(f\"Number of Elo ratings: {elo_df.count()}\")\n",
    "print(f\"Number of clubs with recorded Elo ratings: {elo_df.select('Club').distinct().count()}\")\n",
    "print(\"\")\n",
    "print(f\"Number of league keys: {matches_df.select('League').distinct().count()}\")\n",
    "print(f\"Number of matches: {matches_df.count()}\")\n",
    "print(\n",
    "    f\"Number of teams with recorded matches: {matches_df.select('HomeTeam').union(matches_df.select('AwayTeam')).distinct().count()}\"\n",
    ")\n",
    "print(\"\")\n",
    "# Sample data\n",
    "elo_df.show(5)\n",
    "matches_df.show(2)"
   ]
  },
  {
   "cell_type": "markdown",
   "metadata": {},
   "source": [
    "We seem to have all of the Elo ratings in the `matches_df`, so maybe the `elo_df` is pointless for our purpose. According to the description on Kaggle, the Elo ratings in the `elo_df` are taken from [ClubElo](httsp://www.clubelo.com/), while match results and statistics provided in the table are taken from <https://football-data.co.uk>. It just mentions the Elo ratings in the matches dataset are the \"most recent Elo ratings\", so we can assume that the Elo ratings are in both cases from the same source. **Since we just want to make predictions for game outcomes, we can decide that only the MATCHES.csv dataset is relevant to us.**\n",
    "\n",
    "As we can see, the number of teams/clubs is much greater than the expected number (~500). Hm.\n"
   ]
  },
  {
   "cell_type": "code",
   "execution_count": 5,
   "metadata": {},
   "outputs": [
    {
     "name": "stdout",
     "output_type": "stream",
     "text": [
      "\n",
      "Missing values in MATCHES.csv:\n",
      "+------+----+---------+--------+--------+-------+-------+---------+---------+---------+---------+------+------+--------+------+------+--------+---------+---------+----------+----------+---------+---------+-----------+-----------+----------+----------+-------+-------+-------+-------+-------+-------+-------+-------+------+-------+---------+----------+---------+---------+---------+\n",
      "|League|Date|MatchTime|HomeTeam|AwayTeam|HomeElo|AwayElo|Form3Home|Form5Home|Form3Away|Form5Away|FTHome|FTAway|FTResult|HTHome|HTAway|HTResult|HomeShots|AwayShots|HomeTarget|AwayTarget|HomeFouls|AwayFouls|HomeCorners|AwayCorners|HomeYellow|AwayYellow|HomeRed|AwayRed|OddHome|OddDraw|OddAway|MaxHome|MaxDraw|MaxAway|Over25|Under25|MaxOver25|MaxUnder25|HandiSize|HandiHome|HandiAway|\n",
      "+------+----+---------+--------+--------+-------+-------+---------+---------+---------+---------+------+------+--------+------+------+--------+---------+---------+----------+----------+---------+---------+-----------+-----------+----------+----------+-------+-------+-------+-------+-------+-------+-------+-------+------+-------+---------+----------+---------+---------+---------+\n",
      "|     0|   0|   131485|       0|       0|  88467|  88535|     1500|     1500|     1500|     1500|     3|     3|       3| 54580| 54580|   54580|   115822|   115819|    116628|    116625|   116584|   116584|     116194|     116194|    111259|    111258| 111258| 111260|   3030|   3030|   3030|  27635|  27635|  27635| 82159|  82160|    82159|     82160|    73824|    74077|    74101|\n",
      "+------+----+---------+--------+--------+-------+-------+---------+---------+---------+---------+------+------+--------+------+------+--------+---------+---------+----------+----------+---------+---------+-----------+-----------+----------+----------+-------+-------+-------+-------+-------+-------+-------+-------+------+-------+---------+----------+---------+---------+---------+\n",
      "\n"
     ]
    }
   ],
   "source": [
    "from utils import count_nulls\n",
    "\n",
    "print(\"\\nMissing values in MATCHES.csv:\")\n",
    "count_nulls(matches_df).show()"
   ]
  },
  {
   "cell_type": "markdown",
   "metadata": {},
   "source": [
    "If we want to use as many rows as possible, we should only try to predict \"FTResult\", \"FTHome\", or \"FTAway\". To make our job less complex, **we will decide to just try to predict \"FTResult\"**.\n"
   ]
  },
  {
   "cell_type": "code",
   "execution_count": 6,
   "metadata": {},
   "outputs": [],
   "source": [
    "spark.stop()"
   ]
  }
 ],
 "metadata": {
  "kernelspec": {
   "display_name": "Python 3",
   "language": "python",
   "name": "python3"
  },
  "language_info": {
   "codemirror_mode": {
    "name": "ipython",
    "version": 3
   },
   "file_extension": ".py",
   "mimetype": "text/x-python",
   "name": "python",
   "nbconvert_exporter": "python",
   "pygments_lexer": "ipython3",
   "version": "3.10.16"
  }
 },
 "nbformat": 4,
 "nbformat_minor": 4
}
